{
 "cells": [
  {
   "cell_type": "markdown",
   "metadata": {},
   "source": [
    "# Here is where we will perform the Analysis on the NBA Data set"
   ]
  },
  {
   "cell_type": "markdown",
   "metadata": {},
   "source": [
    "# We hope to answer the following questions:\n",
    "# 1. Which teams draft players that stay in the league longest ?\n",
    "# 2. Which college produces the most players in the league today?\n",
    "# 3. Which college produces the 'toughest' players? aka stay in the league longest\n",
    "# 4. What school produces the best players in each position? (Based on duration in league, number of players in that position) \n",
    "\n",
    "# Let's get programming! \n",
    "\n",
    "\n"
   ]
  },
  {
   "cell_type": "code",
   "execution_count": 2,
   "metadata": {},
   "outputs": [],
   "source": [
    "import numpy as np \n",
    "import pandas as pd"
   ]
  },
  {
   "cell_type": "code",
   "execution_count": 3,
   "metadata": {
    "collapsed": true
   },
   "outputs": [],
   "source": [
    "players = pd.read_csv('college_round1.csv')\n",
    "player_ready = pd.DataFrame(players)"
   ]
  },
  {
   "cell_type": "code",
   "execution_count": 5,
   "metadata": {},
   "outputs": [
    {
     "data": {
      "text/html": [
       "<div>\n",
       "<style>\n",
       "    .dataframe thead tr:only-child th {\n",
       "        text-align: right;\n",
       "    }\n",
       "\n",
       "    .dataframe thead th {\n",
       "        text-align: left;\n",
       "    }\n",
       "\n",
       "    .dataframe tbody tr th {\n",
       "        vertical-align: top;\n",
       "    }\n",
       "</style>\n",
       "<table border=\"1\" class=\"dataframe\">\n",
       "  <thead>\n",
       "    <tr style=\"text-align: right;\">\n",
       "      <th></th>\n",
       "      <th>firstName</th>\n",
       "      <th>lastName</th>\n",
       "      <th>collegeName</th>\n",
       "      <th>currentTeam</th>\n",
       "      <th>draftTeam</th>\n",
       "      <th>draftYear</th>\n",
       "      <th>yearsPro</th>\n",
       "      <th>position</th>\n",
       "    </tr>\n",
       "  </thead>\n",
       "  <tbody>\n",
       "    <tr>\n",
       "      <th>0</th>\n",
       "      <td>Alex</td>\n",
       "      <td>Abrines</td>\n",
       "      <td>NaN</td>\n",
       "      <td>[{'teamId': '1610612760', 'seasonStart': '2016...</td>\n",
       "      <td>{'teamId': '1610612760', 'pickNum': '32', 'rou...</td>\n",
       "      <td>2016.0</td>\n",
       "      <td>2.0</td>\n",
       "      <td>G</td>\n",
       "    </tr>\n",
       "    <tr>\n",
       "      <th>1</th>\n",
       "      <td>Jaylen</td>\n",
       "      <td>Adams</td>\n",
       "      <td>St. Bonaventure</td>\n",
       "      <td>[{'teamId': '1610612737', 'seasonStart': '2018...</td>\n",
       "      <td>{'teamId': '', 'pickNum': '', 'roundNum': '', ...</td>\n",
       "      <td>2018.0</td>\n",
       "      <td>0.0</td>\n",
       "      <td>G</td>\n",
       "    </tr>\n",
       "    <tr>\n",
       "      <th>2</th>\n",
       "      <td>Steven</td>\n",
       "      <td>Adams</td>\n",
       "      <td>Pittsburgh</td>\n",
       "      <td>[{'teamId': '1610612760', 'seasonStart': '2013...</td>\n",
       "      <td>{'teamId': '1610612760', 'pickNum': '12', 'rou...</td>\n",
       "      <td>2013.0</td>\n",
       "      <td>5.0</td>\n",
       "      <td>C</td>\n",
       "    </tr>\n",
       "    <tr>\n",
       "      <th>3</th>\n",
       "      <td>Bam</td>\n",
       "      <td>Adebayo</td>\n",
       "      <td>Kentucky</td>\n",
       "      <td>[{'teamId': '1610612748', 'seasonStart': '2017...</td>\n",
       "      <td>{'teamId': '1610612748', 'pickNum': '14', 'rou...</td>\n",
       "      <td>2017.0</td>\n",
       "      <td>1.0</td>\n",
       "      <td>C-F</td>\n",
       "    </tr>\n",
       "    <tr>\n",
       "      <th>4</th>\n",
       "      <td>DeVaughn</td>\n",
       "      <td>Akoon-Purcell</td>\n",
       "      <td>Illinois State</td>\n",
       "      <td>[{'teamId': '1610612743', 'seasonStart': '2018...</td>\n",
       "      <td>{'teamId': '', 'pickNum': '', 'roundNum': '', ...</td>\n",
       "      <td>2018.0</td>\n",
       "      <td>0.0</td>\n",
       "      <td>G-F</td>\n",
       "    </tr>\n",
       "  </tbody>\n",
       "</table>\n",
       "</div>"
      ],
      "text/plain": [
       "  firstName       lastName      collegeName  \\\n",
       "0      Alex        Abrines              NaN   \n",
       "1    Jaylen          Adams  St. Bonaventure   \n",
       "2    Steven          Adams       Pittsburgh   \n",
       "3       Bam        Adebayo         Kentucky   \n",
       "4  DeVaughn  Akoon-Purcell   Illinois State   \n",
       "\n",
       "                                         currentTeam  \\\n",
       "0  [{'teamId': '1610612760', 'seasonStart': '2016...   \n",
       "1  [{'teamId': '1610612737', 'seasonStart': '2018...   \n",
       "2  [{'teamId': '1610612760', 'seasonStart': '2013...   \n",
       "3  [{'teamId': '1610612748', 'seasonStart': '2017...   \n",
       "4  [{'teamId': '1610612743', 'seasonStart': '2018...   \n",
       "\n",
       "                                           draftTeam  draftYear  yearsPro  \\\n",
       "0  {'teamId': '1610612760', 'pickNum': '32', 'rou...     2016.0       2.0   \n",
       "1  {'teamId': '', 'pickNum': '', 'roundNum': '', ...     2018.0       0.0   \n",
       "2  {'teamId': '1610612760', 'pickNum': '12', 'rou...     2013.0       5.0   \n",
       "3  {'teamId': '1610612748', 'pickNum': '14', 'rou...     2017.0       1.0   \n",
       "4  {'teamId': '', 'pickNum': '', 'roundNum': '', ...     2018.0       0.0   \n",
       "\n",
       "  position  \n",
       "0        G  \n",
       "1        G  \n",
       "2        C  \n",
       "3      C-F  \n",
       "4      G-F  "
      ]
     },
     "execution_count": 5,
     "metadata": {},
     "output_type": "execute_result"
    }
   ],
   "source": [
    "player_ready.head()"
   ]
  },
  {
   "cell_type": "code",
   "execution_count": null,
   "metadata": {
    "collapsed": true
   },
   "outputs": [],
   "source": []
  },
  {
   "cell_type": "code",
   "execution_count": null,
   "metadata": {
    "collapsed": true
   },
   "outputs": [],
   "source": []
  }
 ],
 "metadata": {
  "kernelspec": {
   "display_name": "Python 3",
   "language": "python",
   "name": "python3"
  },
  "language_info": {
   "codemirror_mode": {
    "name": "ipython",
    "version": 3
   },
   "file_extension": ".py",
   "mimetype": "text/x-python",
   "name": "python",
   "nbconvert_exporter": "python",
   "pygments_lexer": "ipython3",
   "version": "3.6.1"
  }
 },
 "nbformat": 4,
 "nbformat_minor": 2
}
